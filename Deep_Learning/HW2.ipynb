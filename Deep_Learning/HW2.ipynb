{
  "nbformat": 4,
  "nbformat_minor": 0,
  "metadata": {
    "colab": {
      "name": "Homework2.ipynb",
      "provenance": [],
      "collapsed_sections": [
        "GSoTfLFsau-Q"
      ]
    },
    "kernelspec": {
      "name": "python3",
      "display_name": "Python 3"
    }
  },
  "cells": [
    {
      "cell_type": "code",
      "metadata": {
        "id": "9vllQSx4E9oP",
        "colab_type": "code",
        "colab": {}
      },
      "source": [
        "import numpy as np\n",
        "import random\n",
        "import matplotlib.pyplot as plt"
      ],
      "execution_count": 1,
      "outputs": []
    },
    {
      "cell_type": "markdown",
      "metadata": {
        "id": "hJX0u5W1cZDc",
        "colab_type": "text"
      },
      "source": [
        "#Question 2\n"
      ]
    },
    {
      "cell_type": "markdown",
      "metadata": {
        "id": "bGn3Fryvfrbu",
        "colab_type": "text"
      },
      "source": [
        "Here we provide an autograd class named Value. The basic idea is to store the computational map during the creation of every Values, and calculate the gradient by back propagation when one of the Value called backwards method.\n",
        "\n",
        "The backward function with the function of building the computational graph is handled, all you need to do is to implement all the operations with its corresponding backwards function, the add function is implemented as an example."
      ]
    },
    {
      "cell_type": "code",
      "metadata": {
        "id": "7saLrsq-5Wc6",
        "colab_type": "code",
        "colab": {}
      },
      "source": [
        "class Value:\n",
        "    '''basic unit of storing a single scalar value and its gradient'''\n",
        "    def __init__(self, data, _children=()):\n",
        "      self.data = data\n",
        "      self.grad = 0\n",
        "      self._prev = set(_children)\n",
        "      self._backward = lambda: None\n",
        "\n",
        "    def get_data(self):\n",
        "      return self.data\n",
        "\n",
        "    def get_grad(self):\n",
        "      return self.grad\n",
        "    \n",
        "    def __add__(self, other):\n",
        "      '''we provided you a example of implementation of a operation here'''\n",
        "\n",
        "      #Firstly, convert some default value type in python to Value\n",
        "      #Then do operations with two or more Value object\n",
        "      other = other if isinstance(other, Value) else Value(other)\n",
        "\n",
        "      #Secondly, create a new Value object which is the result of the operation \n",
        "      out = Value(self.data + other.data, (self, other))\n",
        "\n",
        "      #Thirdly, create a _backwards function for the output object to refresh the gradient of its _childrens, \n",
        "      #Then assign this _backwards function to the output object.\n",
        "      def _backward():\n",
        "        self.grad += out.grad\n",
        "        other.grad += out.grad\n",
        "      out._backward = _backward\n",
        "\n",
        "      return out\n",
        "\n",
        "    def __mul__(self, other):\n",
        "      ''' Computes Multiplication operation'''\n",
        "\n",
        "      other = other if isinstance(other, Value) else Value(other)\n",
        "      out = Value(self.data * other.data, (self, other))\n",
        "\n",
        "      def _backward():\n",
        "        self.grad += out.grad * other.data\n",
        "        other.grad += out.grad * self.data\n",
        "      out._backward = _backward\n",
        "\n",
        "      return out\n",
        "    \n",
        "    def __pow__(self, other):\n",
        "      ''' Computes power operation'''\n",
        "\n",
        "      assert isinstance(other, (int, float))\n",
        "      oth = float(other)\n",
        "      out = Value(np.power(self.data, oth), (self,))\n",
        "\n",
        "      def _backward():\n",
        "        self.grad += out.grad * oth * np.power(self.data, oth - 1)\n",
        "      out._backward = _backward\n",
        "\n",
        "      return out\n",
        "    \n",
        "    def relu(self):\n",
        "      ''' Computes relu operation'''\n",
        "\n",
        "      out = Value(max(self.data, 0), (self,))\n",
        "\n",
        "      def _backward():\n",
        "        if self.data > 0:\n",
        "          self.grad += out.grad \n",
        "      out._backward = _backward\n",
        "\n",
        "      return out\n",
        "    \n",
        "    \n",
        "    def exp(self):\n",
        "      ''' Computes exponential operation'''\n",
        "\n",
        "      out = Value(np.exp(self.data), (self,))\n",
        "\n",
        "      def _backward():\n",
        "        self.grad += out.grad * np.exp(self.data)\n",
        "      out._backward = _backward\n",
        "\n",
        "      return out\n",
        "    \n",
        "    def log(self):\n",
        "      ''' Computes exponential operation'''\n",
        "\n",
        "      out = Value(np.log(self.data), (self,))\n",
        "\n",
        "      def _backward():\n",
        "        self.grad += out.grad / self.data\n",
        "      out._backward = _backward\n",
        "\n",
        "      return out\n",
        "\n",
        "    def backward(self):\n",
        "      #This function is called when you start backpropagation from this Value\n",
        "      \n",
        "      #The gradient of this value is initialized to 1 for you.\n",
        "      self.grad = 1\n",
        "\n",
        "      #You need to find a right topological order all of the children in the graph\n",
        "      topo = []\n",
        "      #Implement a BFS that can visit a node multple times (if the node is used as an operand in multiple operations)\n",
        "      t = [self]\n",
        "\n",
        "      while t:\n",
        "        n = t.pop(0)\n",
        "        prev = list(n._prev)\n",
        "        if n in topo:\n",
        "          topo.remove(n)\n",
        "        topo = topo + [n]\n",
        "        t = t + list(n._prev) \n",
        "\n",
        "      #go one variable at a time and apply the chain rule to get its gradient        \n",
        "      for v in topo:\n",
        "          v._backward()\n",
        "          # print(v)\n",
        "\n",
        "    # we handled those negative and reverse operation for you.\n",
        "    def __neg__(self): # -self\n",
        "      return self * -1\n",
        "\n",
        "    def __radd__(self, other): #other + self\n",
        "      return self + other\n",
        "    \n",
        "    def __sub__(self, other): # self - other\n",
        "      return self + (-other)\n",
        "    \n",
        "    def __rsub__(self, other): # other - self\n",
        "      return other + (-self)\n",
        "    \n",
        "    def __rmul__(self, other): # other * self\n",
        "      return self * other\n",
        "    \n",
        "    def __truediv__(self, other): # self / other\n",
        "      return self * other**-1\n",
        "    \n",
        "    def __rtruediv__(self, other): # other / self\n",
        "      return other * self**-1\n",
        "    \n",
        "    \n",
        "    def __repr__(self):\n",
        "        return f\"Value(data={self.data}, grad={self.grad})\""
      ],
      "execution_count": 2,
      "outputs": []
    },
    {
      "cell_type": "markdown",
      "metadata": {
        "id": "SWMte8xaeWpK",
        "colab_type": "text"
      },
      "source": [
        "Now, we are going to use the simple example in the q1.b to get you familar with the usage of this class.\n",
        "\n",
        "Also you will be able to see whether the some of the operations appeared in this example are correctly implemented."
      ]
    },
    {
      "cell_type": "code",
      "metadata": {
        "id": "PeoL0WIL_sHD",
        "colab_type": "code",
        "colab": {
          "base_uri": "https://localhost:8080/",
          "height": 104
        },
        "outputId": "f0696f02-227c-4280-f5f8-bc52d2634772"
      },
      "source": [
        "w1 = Value(0.3)\n",
        "w2 = Value(-0.5)\n",
        "x1 = Value(0.2)\n",
        "x2 = Value(0.4)\n",
        "\n",
        "#TODO\n",
        "#Do calculation for the question 1.b, and call backward to start backpropagation.\n",
        "#Then print out the gradient of w1 w2 x1 x2.\n",
        "f = 1 / (1 + Value.exp(-(w1*x1 + w2*x2))) + 0.5 * (w1 ** 2 + w2 **2)\n",
        "f.backward()\n",
        "\n",
        "\n",
        "print(\"f value:\", f.data)\n",
        "print(\"w1 grad:\", w1.grad)\n",
        "print(\"w2 grad:\", w2.grad)\n",
        "print(\"x1 grad:\", x1.grad)\n",
        "print(\"x2 grad:\", x2.grad)"
      ],
      "execution_count": 3,
      "outputs": [
        {
          "output_type": "stream",
          "text": [
            "f value: 0.6350570548417855\n",
            "w1 grad: 0.34975579811673396\n",
            "w2 grad: -0.400488403766532\n",
            "x1 grad: 0.074633697175101\n",
            "x2 grad: -0.124389495291835\n"
          ],
          "name": "stdout"
        }
      ]
    },
    {
      "cell_type": "markdown",
      "metadata": {
        "id": "oowriEHef1b7",
        "colab_type": "text"
      },
      "source": [
        "#Question 3\n"
      ]
    },
    {
      "cell_type": "markdown",
      "metadata": {
        "id": "Lcv2k0PLg6wY",
        "colab_type": "text"
      },
      "source": [
        "##Implementation of the linear layer\n",
        "You will implement the linear layer module here\n",
        "\n",
        "We provide the initialization of the class LinearLayer and you need to implement the forward function -- Give out the results - `out` with the shape `[n_samples, n_out_channels]` of a linear layer when the the data `x` shaped `[n_samples, n_in_channels]` is fed into it.\n",
        " "
      ]
    },
    {
      "cell_type": "code",
      "metadata": {
        "id": "NTHmcr7pLbU0",
        "colab_type": "code",
        "colab": {}
      },
      "source": [
        "class Module:\n",
        "  def parameters(self):\n",
        "    return []\n",
        "\n",
        "  def zero_grad(self):\n",
        "    for p in self.parameters():\n",
        "      p.grad = 0\n",
        "\n",
        "class LinearLayer(Module):\n",
        "  def __init__(self, nin, nout):\n",
        "    '''Here we randomly initilized the w as 2-dimensional list of Values'''\n",
        "    '''And b as 1-dimensional list of Values with value 0'''\n",
        "    '''You may use this stucture to implement the __call__ function'''\n",
        "    self.w = []\n",
        "    for i in range(nin):\n",
        "      w_tmp = [Value(random.uniform(-1,1)) for j in range(nout)]\n",
        "      self.w.append(w_tmp)\n",
        "    self.b = [Value(0) for i in range(nout)]\n",
        "    self.nin = nin\n",
        "    self.nout = nout\n",
        "  \n",
        "  def __call__(self, x):\n",
        "    '''x is a two dimensional list of Values with shape (batch_size , nin)'''\n",
        "    '''The output should be a two dimensional list of Values with shape (batch_size, nout)'''\n",
        "\n",
        "    w_np = np.array(self.w)\n",
        "    x_np = np.array(x)\n",
        "    b_np = np.array(self.b)\n",
        "\n",
        "    return (x_np @ w_np + b_np).tolist()\n",
        "  \n",
        "  def parameters(self):\n",
        "    return [p for row in self.w for p in row] + [p for p in self.b]"
      ],
      "execution_count": 4,
      "outputs": []
    },
    {
      "cell_type": "markdown",
      "metadata": {
        "id": "IfSXiqRShoM1",
        "colab_type": "text"
      },
      "source": [
        "##Implementation of usage functions\n",
        "you will implement softmax, cross entropy loss, accuracy here for further use"
      ]
    },
    {
      "cell_type": "code",
      "metadata": {
        "id": "KW_OLYJ_hhbY",
        "colab_type": "code",
        "colab": {}
      },
      "source": [
        "def softmax(y_hat):\n",
        "  \"\"\"\n",
        "    y_hat is the 2-dimensional list of Values with shape (batch_size, n_class)\n",
        "    \n",
        "    the output should also be 2-dimensional list of Values with the same shape as y_hat\n",
        "  \"\"\"\n",
        "\n",
        "  vexp = np.vectorize(Value.exp)\n",
        "  exps = vexp(y_hat)\n",
        "  sums = np.sum(exps, axis=1, keepdims=True)\n",
        "  softmax = exps / sums\n",
        "\n",
        "  return softmax"
      ],
      "execution_count": 5,
      "outputs": []
    },
    {
      "cell_type": "code",
      "metadata": {
        "id": "9xdTC9Tym6sP",
        "colab_type": "code",
        "colab": {}
      },
      "source": [
        "def cross_entropy_loss(y_hat, y):\n",
        "    \"\"\"\n",
        "    y_hat is the output from linear function with shape (batch_size, n_class)\n",
        "    y is list of labels (batch_size)\n",
        "\n",
        "    the output should be a Value.\n",
        "    \"\"\"\n",
        "\n",
        "    vlog = np.vectorize(Value.log)\n",
        "    logs = vlog(y_hat)\n",
        "\n",
        "    ohe = np.zeros((len(y), max(y)+1))\n",
        "    ohe[np.arange(len(y)), y] = 1\n",
        "\n",
        "    loss = np.sum(ohe * logs)\n",
        "    return -loss / len(y)"
      ],
      "execution_count": 6,
      "outputs": []
    },
    {
      "cell_type": "code",
      "metadata": {
        "id": "8jeK31K85qsB",
        "colab_type": "code",
        "colab": {}
      },
      "source": [
        "def accuracy(y_hat, y):\n",
        "    \"\"\"\n",
        "    y_hat is the output from linear function with shape (batch_size, n_class)\n",
        "    y is a list of labels (batch_size)\n",
        "\n",
        "    the output should be a float value \n",
        "    \"\"\"\n",
        "\n",
        "    vdata = np.vectorize(Value.get_data)\n",
        "    pred = np.argmax(vdata(y_hat), axis=1)\n",
        "    correct = (pred == y).sum()\n",
        "    \n",
        "    return correct / len(y)"
      ],
      "execution_count": 7,
      "outputs": []
    },
    {
      "cell_type": "markdown",
      "metadata": {
        "id": "ovsoGs3_ljNC",
        "colab_type": "text"
      },
      "source": [
        "Implement the following functions to visualize the ground truth and the decision boundary to in the same figure."
      ]
    },
    {
      "cell_type": "code",
      "metadata": {
        "id": "B9kPT-caWUaw",
        "colab_type": "code",
        "colab": {}
      },
      "source": [
        "def plot_points (X, Y, scale, n, data):\n",
        "    '''\n",
        "    plot points in the virtualization image\n",
        "    '''\n",
        "    points_color = [[0., 0. , 255.], [255., 0., 0.], [0., 255., 0.],[0., 0. , 0.]]\n",
        "\n",
        "    x = (X + scale) / (2 * scale) * n\n",
        "    x = np.rint(x)\n",
        "    x = x.astype(np.int)\n",
        "    Y = Y.astype(np.int)\n",
        "    \n",
        "    for i in range(X.shape[0]):\n",
        "      data[x[i,0]][x[i,1]] = points_color[Y[i]]\n",
        "\n",
        "    return data\n",
        "\n",
        "\n",
        "def plot_background (scale, n, model):\n",
        "    '''\n",
        "    color background in the virtualization image\n",
        "    '''\n",
        "\n",
        "    background_color = [[0., 191., 255.], [255., 110., 180.], [202., 255., 112.],[156., 156., 156.]]\n",
        "   \n",
        "    data = np.zeros((n,n,3), dtype='uint8')\n",
        "    vdata = np.vectorize(Value.get_data)\n",
        "    \n",
        "    # k = 100\n",
        "    for i in range(n):\n",
        "        x1 = -scale + 2 * scale / n * i\n",
        "        for j in range(n):\n",
        "            x2 = -scale + 2 * scale / n * j\n",
        "            input = [[Value(x1),Value(x2)]]\n",
        "            #TODO using the model to predict a class for the input and assign a color to \"data\" at this position.\n",
        "            logits = model(input)\n",
        "            y_hat = softmax(logits)\n",
        "            pred = np.argmax(vdata(y_hat))\n",
        "            # print(pred)\n",
        "            # data[input] = background_color[pred]\n",
        "            data[i][j] = background_color[pred]\n",
        "    return data\n",
        "\n",
        "\n",
        "def virtualization(X, Y, model):\n",
        "\n",
        "    scale = 4.5  # the scale of X axis and Y axis. To say, x is from -scale to +scale\n",
        "    n = 300      # seperate the image into n*n pixels \n",
        "\n",
        "    # data = np.ones((n,n,3), dtype='uint8')\n",
        "    data = plot_background (scale, n, model)\n",
        "    data = plot_points (X, Y, scale, n, data)\n",
        "    \n",
        "    plt.imshow(data)\n",
        "    plt.axis('off')\n",
        "    plt.show()"
      ],
      "execution_count": 8,
      "outputs": []
    },
    {
      "cell_type": "markdown",
      "metadata": {
        "id": "PaPMBVcZiVah",
        "colab_type": "text"
      },
      "source": [
        "##Implementation of training procedure\n",
        "With input data `x`, ground_truth `y`, and `model` as parameters, implement the gradient descent method to train your model and plot loss and accuracy vs the training iterations"
      ]
    },
    {
      "cell_type": "code",
      "metadata": {
        "id": "d9b1UnDTO12e",
        "colab_type": "code",
        "colab": {}
      },
      "source": [
        "def train(x, y, model, loss_function=cross_entropy_loss, accuracy_function=accuracy, max_iteration=500, learning_rate=1):\n",
        "    '''\n",
        "       x 2-d list of Values with shape: [n_samples, n_channels]\n",
        "       y 1-d list of integers with shape: [n_samples]\n",
        "    '''\n",
        "    for i in range(max_iteration):\n",
        "        #Set gradients to 0 to prevent accumulation\n",
        "        model.zero_grad()\n",
        "\n",
        "        #Calculate estimated labels, loss, and accuracy\n",
        "        logits = model(x)\n",
        "        y_hat = softmax(logits)\n",
        "        loss = cross_entropy_loss(y_hat, y)\n",
        "        acc = accuracy(y_hat, y)\n",
        "\n",
        "        #TODO Then You will need to calculate gradient for all parameters, and do gradient descent for all the parameters.\n",
        "        #The list of parameters can be easily obtained by calling mode.parameters() which is implemented above.\n",
        "        loss.backward()\n",
        "        params = model.parameters()\n",
        "        for p in params:\n",
        "          p.data = p.data - learning_rate * p.grad\n",
        "        \n",
        "        #Then plot the loss / accuracy vs iterations.\n",
        "        if i % 20 == 19:\n",
        "            print(\"iteration\",i,\"loss:\",loss.data, \"accuracy:\",acc)\n",
        "        ## record loss\n",
        "        if i == 0 :\n",
        "        # initialize L\n",
        "            L = loss.data\n",
        "            A = acc\n",
        "        else:\n",
        "            L = np.append(L,loss.data)\n",
        "            A = np.append(A,acc)\n",
        "    \n",
        "    ## plot the loss function\n",
        "    fig0=plt.figure(0)\n",
        "    plt.plot(L,'-')\n",
        "    plt.xlabel('Iteration', fontsize=18)\n",
        "    plt.ylabel('Loss', fontsize=16)\n",
        "    plt.show()\n",
        "    fig1=plt.figure(1)\n",
        "    plt.plot(A,'-')\n",
        "    plt.xlabel('Iteration', fontsize=18)\n",
        "    plt.ylabel('Accuracy', fontsize=16)\n",
        "    plt.show()\n"
      ],
      "execution_count": 9,
      "outputs": []
    },
    {
      "cell_type": "markdown",
      "metadata": {
        "id": "h9p8QtQJjeAl",
        "colab_type": "text"
      },
      "source": [
        "##Train the model\n",
        "load the data, format it, instantiate your model and start training!"
      ]
    },
    {
      "cell_type": "code",
      "metadata": {
        "id": "pOHM_FgtoUyu",
        "colab_type": "code",
        "colab": {
          "base_uri": "https://localhost:8080/",
          "height": 835
        },
        "outputId": "8b18ee43-fc8c-4aeb-a0c3-c1e4236f1151"
      },
      "source": [
        "datapath = './Q3_data.npz'\n",
        "data = np.load(datapath)\n",
        "\n",
        "X = data['X']\n",
        "Y = data['Y']\n",
        "print(X.shape, Y.shape, np.unique(Y))\n",
        "nin = X.shape[1]\n",
        "nout = np.max(Y) + 1\n",
        "\n",
        "x = [[Value(v) for v in sample] for sample in X]\n",
        "y = [int(v) for v in Y]\n",
        "\n",
        "linear_model = LinearLayer(nin, nout)\n",
        "\n",
        "train(x, y, linear_model, max_iteration=300, learning_rate=0.1)"
      ],
      "execution_count": 10,
      "outputs": [
        {
          "output_type": "stream",
          "text": [
            "(100, 2) (100,) [0 1 2 3]\n",
            "iteration 19 loss: 1.18673237419827 accuracy: 0.37\n",
            "iteration 39 loss: 0.996502653314012 accuracy: 0.72\n",
            "iteration 59 loss: 0.8855190341166934 accuracy: 0.82\n",
            "iteration 79 loss: 0.8049579146732265 accuracy: 0.86\n",
            "iteration 99 loss: 0.7428363218344581 accuracy: 0.89\n",
            "iteration 119 loss: 0.6932017930904509 accuracy: 0.94\n",
            "iteration 139 loss: 0.6524619570261885 accuracy: 0.94\n",
            "iteration 159 loss: 0.6182902419768197 accuracy: 0.94\n",
            "iteration 179 loss: 0.5891125530422935 accuracy: 0.95\n",
            "iteration 199 loss: 0.5638268348484982 accuracy: 0.96\n",
            "iteration 219 loss: 0.5416388607121208 accuracy: 0.96\n",
            "iteration 239 loss: 0.5219617031124428 accuracy: 0.96\n",
            "iteration 259 loss: 0.5043519848883047 accuracy: 0.96\n",
            "iteration 279 loss: 0.48846821387162104 accuracy: 0.96\n",
            "iteration 299 loss: 0.4740428143160189 accuracy: 0.96\n"
          ],
          "name": "stdout"
        },
        {
          "output_type": "display_data",
          "data": {
            "image/png": "[encoded data removed]",
            "text/plain": [
              "<Figure size 432x288 with 1 Axes>"
            ]
          },
          "metadata": {
            "tags": [],
            "needs_background": "light"
          }
        },
        {
          "output_type": "display_data",
          "data": {
            "image/png": "[encoded data removed]",
            "text/plain": [
              "<Figure size 432x288 with 1 Axes>"
            ]
          },
          "metadata": {
            "tags": [],
            "needs_background": "light"
          }
        }
      ]
    },
    {
      "cell_type": "code",
      "metadata": {
        "id": "nEUUcgHEM6of",
        "colab_type": "code",
        "colab": {
          "base_uri": "https://localhost:8080/",
          "height": 248
        },
        "outputId": "9137cf68-47c6-43a4-d874-5254e6852c69"
      },
      "source": [
        "virtualization(X, Y, linear_model)"
      ],
      "execution_count": 22,
      "outputs": [
        {
          "output_type": "display_data",
          "data": {
            "image/png": "[encoded data removed]",
            "text/plain": [
              "<Figure size 432x288 with 1 Axes>"
            ]
          },
          "metadata": {
            "tags": [],
            "needs_background": "light"
          }
        }
      ]
    },
    {
      "cell_type": "markdown",
      "metadata": {
        "id": "ctXkntnIkdjt",
        "colab_type": "text"
      },
      "source": [
        "#Question 4"
      ]
    },
    {
      "cell_type": "markdown",
      "metadata": {
        "id": "GFoPi3NskoIh",
        "colab_type": "text"
      },
      "source": [
        "##a) Is this dataset linear separable?\n",
        "load the dataset for this question and train a linear model on this dataset and report the performance"
      ]
    },
    {
      "cell_type": "code",
      "metadata": {
        "id": "N1BHFxm4Ix2c",
        "colab_type": "code",
        "colab": {}
      },
      "source": [
        "datapath = './Q4_data.npz'\n",
        "data = np.load(datapath)\n",
        "\n",
        "X = data['X']\n",
        "Y = data['Y']\n",
        "\n",
        "nin = X.shape[1]\n",
        "nout = int(np.max(Y)) + 1\n",
        "\n",
        "x = [[Value(v) for v in sample] for sample in X]\n",
        "y = [int(v) for v in Y]"
      ],
      "execution_count": 12,
      "outputs": []
    },
    {
      "cell_type": "code",
      "metadata": {
        "id": "qlFvA3CCS33X",
        "colab_type": "code",
        "colab": {
          "base_uri": "https://localhost:8080/",
          "height": 732
        },
        "outputId": "39156cc8-8c97-410c-d9f3-0d958ddaaf7d"
      },
      "source": [
        "linear_model = LinearLayer(nin, nout)\n",
        "\n",
        "train(x, y, linear_model, max_iteration=200, learning_rate=0.1)"
      ],
      "execution_count": 13,
      "outputs": [
        {
          "output_type": "stream",
          "text": [
            "iteration 19 loss: 0.7131081606665883 accuracy: 0.8\n",
            "iteration 39 loss: 0.5328268063522784 accuracy: 0.825\n",
            "iteration 59 loss: 0.47017925342992223 accuracy: 0.825\n",
            "iteration 79 loss: 0.43818482919326157 accuracy: 0.825\n",
            "iteration 99 loss: 0.41873421414176093 accuracy: 0.8\n",
            "iteration 119 loss: 0.4056592012149814 accuracy: 0.8\n",
            "iteration 139 loss: 0.3962662130872549 accuracy: 0.8\n",
            "iteration 159 loss: 0.3891885082723314 accuracy: 0.8\n",
            "iteration 179 loss: 0.38365851595216727 accuracy: 0.8\n",
            "iteration 199 loss: 0.3792122607490226 accuracy: 0.8\n"
          ],
          "name": "stdout"
        },
        {
          "output_type": "display_data",
          "data": {
            "image/png": "[encoded data removed]",
            "text/plain": [
              "<Figure size 432x288 with 1 Axes>"
            ]
          },
          "metadata": {
            "tags": [],
            "needs_background": "light"
          }
        },
        {
          "output_type": "display_data",
          "data": {
            "image/png": "[encoded data removed]",
            "text/plain": [
              "<Figure size 432x288 with 1 Axes>"
            ]
          },
          "metadata": {
            "tags": [],
            "needs_background": "light"
          }
        }
      ]
    },
    {
      "cell_type": "code",
      "metadata": {
        "id": "8cFD2eQ2WWUQ",
        "colab_type": "code",
        "colab": {
          "base_uri": "https://localhost:8080/",
          "height": 248
        },
        "outputId": "4f0e144b-8b78-403f-8fb6-ad2a638e765a"
      },
      "source": [
        "virtualization(X, Y, linear_model)"
      ],
      "execution_count": 14,
      "outputs": [
        {
          "output_type": "display_data",
          "data": {
            "image/png": "[encoded data removed]",
            "text/plain": [
              "<Figure size 432x288 with 1 Axes>"
            ]
          },
          "metadata": {
            "tags": [],
            "needs_background": "light"
          }
        }
      ]
    },
    {
      "cell_type": "markdown",
      "metadata": {
        "id": "DYoFsdm0m18J",
        "colab_type": "text"
      },
      "source": [
        "##b) Implementation of MLP\n",
        "Implement a class of MLP to add arbitrary layers. You will need to implement the forward function to give out results `out` with `x` fed into the model."
      ]
    },
    {
      "cell_type": "code",
      "metadata": {
        "id": "ldxalUrYLOZW",
        "colab_type": "code",
        "colab": {}
      },
      "source": [
        "class MLP(Module):\n",
        "  def __init__(self, dimensions):\n",
        "    '''We initialized several layers here in the list named self.linear_layers'''\n",
        "    assert isinstance(dimensions, list)\n",
        "    assert len(dimensions) > 2\n",
        "    self.linear_layers = []\n",
        "    for i in range(len(dimensions) - 1):\n",
        "      self.linear_layers.append(LinearLayer(dimensions[i], dimensions[i+1]))\n",
        "\n",
        "  def __call__(self, x):\n",
        "    '''x is a two dimensional list of Values with shape (batch_size , nin)'''\n",
        "    '''The output should be a two dimensional list of Values with shape (batch_size, nout)'''\n",
        "\n",
        "    vrelu = np.vectorize(Value.relu)\n",
        "\n",
        "    t = x\n",
        "    layers = self.linear_layers.copy()\n",
        "    last = layers.pop()\n",
        "\n",
        "    for layer in layers:\n",
        "      t = vrelu(layer(t)).tolist()\n",
        "\n",
        "    return last(t)\n",
        "  \n",
        "  def parameters(self):\n",
        "    return [p for layer in self.linear_layers for p in layer.parameters()]\n",
        "  \n",
        "  def zero_grad(self):\n",
        "    for p in self.parameters():\n",
        "      p.grad = 0"
      ],
      "execution_count": 18,
      "outputs": []
    },
    {
      "cell_type": "markdown",
      "metadata": {
        "id": "vrFd0boknj94",
        "colab_type": "text"
      },
      "source": [
        "Train your MLP model and visualize the decision boundary with ground truth points."
      ]
    },
    {
      "cell_type": "code",
      "metadata": {
        "id": "H_zTwbDZQ4I4",
        "colab_type": "code",
        "colab": {
          "base_uri": "https://localhost:8080/",
          "height": 818
        },
        "outputId": "1e9b8503-fde8-4747-81e5-206b94e4a3f9"
      },
      "source": [
        "mlp_model = MLP([nin, 7, nout])\n",
        "train(x, y, mlp_model, max_iteration=300, learning_rate=0.2)"
      ],
      "execution_count": 21,
      "outputs": [
        {
          "output_type": "stream",
          "text": [
            "iteration 19 loss: 0.4906088355016522 accuracy: 0.825\n",
            "iteration 39 loss: 0.4140424186092979 accuracy: 0.8\n",
            "iteration 59 loss: 0.38606498836673775 accuracy: 0.8\n",
            "iteration 79 loss: 0.367854064928107 accuracy: 0.8\n",
            "iteration 99 loss: 0.3518138395992104 accuracy: 0.8\n",
            "iteration 119 loss: 0.3396855465125144 accuracy: 0.8\n",
            "iteration 139 loss: 0.32934272862603736 accuracy: 0.825\n",
            "iteration 159 loss: 0.3196871190284037 accuracy: 0.825\n",
            "iteration 179 loss: 0.31098374274175594 accuracy: 0.825\n",
            "iteration 199 loss: 0.30325279645105535 accuracy: 0.85\n",
            "iteration 219 loss: 0.2961121104131667 accuracy: 0.85\n",
            "iteration 239 loss: 0.28952159863624527 accuracy: 0.85\n",
            "iteration 259 loss: 0.2833712823305992 accuracy: 0.875\n",
            "iteration 279 loss: 0.27768785315368705 accuracy: 0.9\n",
            "iteration 299 loss: 0.2723506763056121 accuracy: 0.9\n"
          ],
          "name": "stdout"
        },
        {
          "output_type": "display_data",
          "data": {
            "image/png": "[encoded data removed]",
            "text/plain": [
              "<Figure size 432x288 with 1 Axes>"
            ]
          },
          "metadata": {
            "tags": [],
            "needs_background": "light"
          }
        },
        {
          "output_type": "display_data",
          "data": {
            "image/png": "[encoded data removed]",
            "text/plain": [
              "<Figure size 432x288 with 1 Axes>"
            ]
          },
          "metadata": {
            "tags": [],
            "needs_background": "light"
          }
        }
      ]
    },
    {
      "cell_type": "code",
      "metadata": {
        "id": "sr2-BMquWPg_",
        "colab_type": "code",
        "colab": {
          "base_uri": "https://localhost:8080/",
          "height": 248
        },
        "outputId": "fbd0192d-b32d-404b-894b-f28e7d8263cd"
      },
      "source": [
        "virtualization(X, Y, mlp_model)"
      ],
      "execution_count": 20,
      "outputs": [
        {
          "output_type": "display_data",
          "data": {
            "image/png": "[encoded data removed]",
            "text/plain": [
              "<Figure size 432x288 with 1 Axes>"
            ]
          },
          "metadata": {
            "tags": [],
            "needs_background": "light"
          }
        }
      ]
    },
    {
      "cell_type": "markdown",
      "metadata": {
        "id": "GSoTfLFsau-Q",
        "colab_type": "text"
      },
      "source": [
        "#Acknowledgement"
      ]
    },
    {
      "cell_type": "markdown",
      "metadata": {
        "id": "n9tFA4DZa4E6",
        "colab_type": "text"
      },
      "source": [
        "The design of the auto grade structure are based on the work https://github.com/karpathy/micrograd"
      ]
    }
  ]
}