{
  "nbformat": 4,
  "nbformat_minor": 0,
  "metadata": {
    "colab": {
      "name": "HW4_Q2.ipynb",
      "provenance": []
    },
    "kernelspec": {
      "name": "python3",
      "display_name": "Python 3"
    },
    "accelerator": "GPU",
    "widgets": {
      "application/vnd.jupyter.widget-state+json": {
        "b6fc07c67c574dbbb3aa95d845b87518": {
          "model_module": "@jupyter-widgets/controls",
          "model_name": "HBoxModel",
          "state": {
            "_view_name": "HBoxView",
            "_dom_classes": [],
            "_model_name": "HBoxModel",
            "_view_module": "@jupyter-widgets/controls",
            "_model_module_version": "1.5.0",
            "_view_count": null,
            "_view_module_version": "1.5.0",
            "box_style": "",
            "layout": "IPY_MODEL_f122769b9f9545c7bec65a5c09ff804f",
            "_model_module": "@jupyter-widgets/controls",
            "children": [
              "IPY_MODEL_d9ffabbe10e64b5684ec8be4cfc575f5",
              "IPY_MODEL_e937fa71d3d84fd59252034f6a7d11c7"
            ]
          }
        },
        "f122769b9f9545c7bec65a5c09ff804f": {
          "model_module": "@jupyter-widgets/base",
          "model_name": "LayoutModel",
          "state": {
            "_view_name": "LayoutView",
            "grid_template_rows": null,
            "right": null,
            "justify_content": null,
            "_view_module": "@jupyter-widgets/base",
            "overflow": null,
            "_model_module_version": "1.2.0",
            "_view_count": null,
            "flex_flow": null,
            "width": null,
            "min_width": null,
            "border": null,
            "align_items": null,
            "bottom": null,
            "_model_module": "@jupyter-widgets/base",
            "top": null,
            "grid_column": null,
            "overflow_y": null,
            "overflow_x": null,
            "grid_auto_flow": null,
            "grid_area": null,
            "grid_template_columns": null,
            "flex": null,
            "_model_name": "LayoutModel",
            "justify_items": null,
            "grid_row": null,
            "max_height": null,
            "align_content": null,
            "visibility": null,
            "align_self": null,
            "height": null,
            "min_height": null,
            "padding": null,
            "grid_auto_rows": null,
            "grid_gap": null,
            "max_width": null,
            "order": null,
            "_view_module_version": "1.2.0",
            "grid_template_areas": null,
            "object_position": null,
            "object_fit": null,
            "grid_auto_columns": null,
            "margin": null,
            "display": null,
            "left": null
          }
        },
        "d9ffabbe10e64b5684ec8be4cfc575f5": {
          "model_module": "@jupyter-widgets/controls",
          "model_name": "FloatProgressModel",
          "state": {
            "_view_name": "ProgressView",
            "style": "IPY_MODEL_c9b130bf0b8c44338fc6f324220f230a",
            "_dom_classes": [],
            "description": "",
            "_model_name": "FloatProgressModel",
            "bar_style": "success",
            "max": 1,
            "_view_module": "@jupyter-widgets/controls",
            "_model_module_version": "1.5.0",
            "value": 1,
            "_view_count": null,
            "_view_module_version": "1.5.0",
            "orientation": "horizontal",
            "min": 0,
            "description_tooltip": null,
            "_model_module": "@jupyter-widgets/controls",
            "layout": "IPY_MODEL_fab6db5a9f1c4640a80100104d8834d8"
          }
        },
        "e937fa71d3d84fd59252034f6a7d11c7": {
          "model_module": "@jupyter-widgets/controls",
          "model_name": "HTMLModel",
          "state": {
            "_view_name": "HTMLView",
            "style": "IPY_MODEL_74ec9f62ee0c4996888b7d44bbd07316",
            "_dom_classes": [],
            "description": "",
            "_model_name": "HTMLModel",
            "placeholder": "​",
            "_view_module": "@jupyter-widgets/controls",
            "_model_module_version": "1.5.0",
            "value": " 26427392/? [00:02&lt;00:00, 10580352.80it/s]",
            "_view_count": null,
            "_view_module_version": "1.5.0",
            "description_tooltip": null,
            "_model_module": "@jupyter-widgets/controls",
            "layout": "IPY_MODEL_98d9c491092944c5bbb65f8cec42b35d"
          }
        },
        "c9b130bf0b8c44338fc6f324220f230a": {
          "model_module": "@jupyter-widgets/controls",
          "model_name": "ProgressStyleModel",
          "state": {
            "_view_name": "StyleView",
            "_model_name": "ProgressStyleModel",
            "description_width": "initial",
            "_view_module": "@jupyter-widgets/base",
            "_model_module_version": "1.5.0",
            "_view_count": null,
            "_view_module_version": "1.2.0",
            "bar_color": null,
            "_model_module": "@jupyter-widgets/controls"
          }
        },
        "fab6db5a9f1c4640a80100104d8834d8": {
          "model_module": "@jupyter-widgets/base",
          "model_name": "LayoutModel",
          "state": {
            "_view_name": "LayoutView",
            "grid_template_rows": null,
            "right": null,
            "justify_content": null,
            "_view_module": "@jupyter-widgets/base",
            "overflow": null,
            "_model_module_version": "1.2.0",
            "_view_count": null,
            "flex_flow": null,
            "width": null,
            "min_width": null,
            "border": null,
            "align_items": null,
            "bottom": null,
            "_model_module": "@jupyter-widgets/base",
            "top": null,
            "grid_column": null,
            "overflow_y": null,
            "overflow_x": null,
            "grid_auto_flow": null,
            "grid_area": null,
            "grid_template_columns": null,
            "flex": null,
            "_model_name": "LayoutModel",
            "justify_items": null,
            "grid_row": null,
            "max_height": null,
            "align_content": null,
            "visibility": null,
            "align_self": null,
            "height": null,
            "min_height": null,
            "padding": null,
            "grid_auto_rows": null,
            "grid_gap": null,
            "max_width": null,
            "order": null,
            "_view_module_version": "1.2.0",
            "grid_template_areas": null,
            "object_position": null,
            "object_fit": null,
            "grid_auto_columns": null,
            "margin": null,
            "display": null,
            "left": null
          }
        },
        "74ec9f62ee0c4996888b7d44bbd07316": {
          "model_module": "@jupyter-widgets/controls",
          "model_name": "DescriptionStyleModel",
          "state": {
            "_view_name": "StyleView",
            "_model_name": "DescriptionStyleModel",
            "description_width": "",
            "_view_module": "@jupyter-widgets/base",
            "_model_module_version": "1.5.0",
            "_view_count": null,
            "_view_module_version": "1.2.0",
            "_model_module": "@jupyter-widgets/controls"
          }
        },
        "98d9c491092944c5bbb65f8cec42b35d": {
          "model_module": "@jupyter-widgets/base",
          "model_name": "LayoutModel",
          "state": {
            "_view_name": "LayoutView",
            "grid_template_rows": null,
            "right": null,
            "justify_content": null,
            "_view_module": "@jupyter-widgets/base",
            "overflow": null,
            "_model_module_version": "1.2.0",
            "_view_count": null,
            "flex_flow": null,
            "width": null,
            "min_width": null,
            "border": null,
            "align_items": null,
            "bottom": null,
            "_model_module": "@jupyter-widgets/base",
            "top": null,
            "grid_column": null,
            "overflow_y": null,
            "overflow_x": null,
            "grid_auto_flow": null,
            "grid_area": null,
            "grid_template_columns": null,
            "flex": null,
            "_model_name": "LayoutModel",
            "justify_items": null,
            "grid_row": null,
            "max_height": null,
            "align_content": null,
            "visibility": null,
            "align_self": null,
            "height": null,
            "min_height": null,
            "padding": null,
            "grid_auto_rows": null,
            "grid_gap": null,
            "max_width": null,
            "order": null,
            "_view_module_version": "1.2.0",
            "grid_template_areas": null,
            "object_position": null,
            "object_fit": null,
            "grid_auto_columns": null,
            "margin": null,
            "display": null,
            "left": null
          }
        },
        "a163c831222f4b2db36fcec562496d78": {
          "model_module": "@jupyter-widgets/controls",
          "model_name": "HBoxModel",
          "state": {
            "_view_name": "HBoxView",
            "_dom_classes": [],
            "_model_name": "HBoxModel",
            "_view_module": "@jupyter-widgets/controls",
            "_model_module_version": "1.5.0",
            "_view_count": null,
            "_view_module_version": "1.5.0",
            "box_style": "",
            "layout": "IPY_MODEL_cc400c49f4a945718b8bc1b0b7b3a4d3",
            "_model_module": "@jupyter-widgets/controls",
            "children": [
              "IPY_MODEL_ea2380d078f040869c3d96dba99e82f5",
              "IPY_MODEL_17b62244ba424969b39b24bdaabd464a"
            ]
          }
        },
        "cc400c49f4a945718b8bc1b0b7b3a4d3": {
          "model_module": "@jupyter-widgets/base",
          "model_name": "LayoutModel",
          "state": {
            "_view_name": "LayoutView",
            "grid_template_rows": null,
            "right": null,
            "justify_content": null,
            "_view_module": "@jupyter-widgets/base",
            "overflow": null,
            "_model_module_version": "1.2.0",
            "_view_count": null,
            "flex_flow": null,
            "width": null,
            "min_width": null,
            "border": null,
            "align_items": null,
            "bottom": null,
            "_model_module": "@jupyter-widgets/base",
            "top": null,
            "grid_column": null,
            "overflow_y": null,
            "overflow_x": null,
            "grid_auto_flow": null,
            "grid_area": null,
            "grid_template_columns": null,
            "flex": null,
            "_model_name": "LayoutModel",
            "justify_items": null,
            "grid_row": null,
            "max_height": null,
            "align_content": null,
            "visibility": null,
            "align_self": null,
            "height": null,
            "min_height": null,
            "padding": null,
            "grid_auto_rows": null,
            "grid_gap": null,
            "max_width": null,
            "order": null,
            "_view_module_version": "1.2.0",
            "grid_template_areas": null,
            "object_position": null,
            "object_fit": null,
            "grid_auto_columns": null,
            "margin": null,
            "display": null,
            "left": null
          }
        },
        "ea2380d078f040869c3d96dba99e82f5": {
          "model_module": "@jupyter-widgets/controls",
          "model_name": "FloatProgressModel",
          "state": {
            "_view_name": "ProgressView",
            "style": "IPY_MODEL_505a3eb74a624c07a3c2a6f4426fcca7",
            "_dom_classes": [],
            "description": "",
            "_model_name": "FloatProgressModel",
            "bar_style": "success",
            "max": 1,
            "_view_module": "@jupyter-widgets/controls",
            "_model_module_version": "1.5.0",
            "value": 1,
            "_view_count": null,
            "_view_module_version": "1.5.0",
            "orientation": "horizontal",
            "min": 0,
            "description_tooltip": null,
            "_model_module": "@jupyter-widgets/controls",
            "layout": "IPY_MODEL_1b4ad02e9bce4c05bf269e34a3ebda02"
          }
        },
        "17b62244ba424969b39b24bdaabd464a": {
          "model_module": "@jupyter-widgets/controls",
          "model_name": "HTMLModel",
          "state": {
            "_view_name": "HTMLView",
            "style": "IPY_MODEL_3070db30f09c44e7a7d34e71a75390c8",
            "_dom_classes": [],
            "description": "",
            "_model_name": "HTMLModel",
            "placeholder": "​",
            "_view_module": "@jupyter-widgets/controls",
            "_model_module_version": "1.5.0",
            "value": " 32768/? [00:01&lt;00:00, 19120.32it/s]",
            "_view_count": null,
            "_view_module_version": "1.5.0",
            "description_tooltip": null,
            "_model_module": "@jupyter-widgets/controls",
            "layout": "IPY_MODEL_4a20bcae8a72421c85303c7f3790fa13"
          }
        },
        "505a3eb74a624c07a3c2a6f4426fcca7": {
          "model_module": "@jupyter-widgets/controls",
          "model_name": "ProgressStyleModel",
          "state": {
            "_view_name": "StyleView",
            "_model_name": "ProgressStyleModel",
            "description_width": "initial",
            "_view_module": "@jupyter-widgets/base",
            "_model_module_version": "1.5.0",
            "_view_count": null,
            "_view_module_version": "1.2.0",
            "bar_color": null,
            "_model_module": "@jupyter-widgets/controls"
          }
        },
        "1b4ad02e9bce4c05bf269e34a3ebda02": {
          "model_module": "@jupyter-widgets/base",
          "model_name": "LayoutModel",
          "state": {
            "_view_name": "LayoutView",
            "grid_template_rows": null,
            "right": null,
            "justify_content": null,
            "_view_module": "@jupyter-widgets/base",
            "overflow": null,
            "_model_module_version": "1.2.0",
            "_view_count": null,
            "flex_flow": null,
            "width": null,
            "min_width": null,
            "border": null,
            "align_items": null,
            "bottom": null,
            "_model_module": "@jupyter-widgets/base",
            "top": null,
            "grid_column": null,
            "overflow_y": null,
            "overflow_x": null,
            "grid_auto_flow": null,
            "grid_area": null,
            "grid_template_columns": null,
            "flex": null,
            "_model_name": "LayoutModel",
            "justify_items": null,
            "grid_row": null,
            "max_height": null,
            "align_content": null,
            "visibility": null,
            "align_self": null,
            "height": null,
            "min_height": null,
            "padding": null,
            "grid_auto_rows": null,
            "grid_gap": null,
            "max_width": null,
            "order": null,
            "_view_module_version": "1.2.0",
            "grid_template_areas": null,
            "object_position": null,
            "object_fit": null,
            "grid_auto_columns": null,
            "margin": null,
            "display": null,
            "left": null
          }
        },
        "3070db30f09c44e7a7d34e71a75390c8": {
          "model_module": "@jupyter-widgets/controls",
          "model_name": "DescriptionStyleModel",
          "state": {
            "_view_name": "StyleView",
            "_model_name": "DescriptionStyleModel",
            "description_width": "",
            "_view_module": "@jupyter-widgets/base",
            "_model_module_version": "1.5.0",
            "_view_count": null,
            "_view_module_version": "1.2.0",
            "_model_module": "@jupyter-widgets/controls"
          }
        },
        "4a20bcae8a72421c85303c7f3790fa13": {
          "model_module": "@jupyter-widgets/base",
          "model_name": "LayoutModel",
          "state": {
            "_view_name": "LayoutView",
            "grid_template_rows": null,
            "right": null,
            "justify_content": null,
            "_view_module": "@jupyter-widgets/base",
            "overflow": null,
            "_model_module_version": "1.2.0",
            "_view_count": null,
            "flex_flow": null,
            "width": null,
            "min_width": null,
            "border": null,
            "align_items": null,
            "bottom": null,
            "_model_module": "@jupyter-widgets/base",
            "top": null,
            "grid_column": null,
            "overflow_y": null,
            "overflow_x": null,
            "grid_auto_flow": null,
            "grid_area": null,
            "grid_template_columns": null,
            "flex": null,
            "_model_name": "LayoutModel",
            "justify_items": null,
            "grid_row": null,
            "max_height": null,
            "align_content": null,
            "visibility": null,
            "align_self": null,
            "height": null,
            "min_height": null,
            "padding": null,
            "grid_auto_rows": null,
            "grid_gap": null,
            "max_width": null,
            "order": null,
            "_view_module_version": "1.2.0",
            "grid_template_areas": null,
            "object_position": null,
            "object_fit": null,
            "grid_auto_columns": null,
            "margin": null,
            "display": null,
            "left": null
          }
        },
        "6df3dfe3bf1d42459266f19985f20c8d": {
          "model_module": "@jupyter-widgets/controls",
          "model_name": "HBoxModel",
          "state": {
            "_view_name": "HBoxView",
            "_dom_classes": [],
            "_model_name": "HBoxModel",
            "_view_module": "@jupyter-widgets/controls",
            "_model_module_version": "1.5.0",
            "_view_count": null,
            "_view_module_version": "1.5.0",
            "box_style": "",
            "layout": "IPY_MODEL_8e9bbeb0681a4cd592b7c182e4d60ffb",
            "_model_module": "@jupyter-widgets/controls",
            "children": [
              "IPY_MODEL_63fd6558ef784842a4b646a1c6a8c0df",
              "IPY_MODEL_71b05c408094437b8e5818a4743f66fa"
            ]
          }
        },
        "8e9bbeb0681a4cd592b7c182e4d60ffb": {
          "model_module": "@jupyter-widgets/base",
          "model_name": "LayoutModel",
          "state": {
            "_view_name": "LayoutView",
            "grid_template_rows": null,
            "right": null,
            "justify_content": null,
            "_view_module": "@jupyter-widgets/base",
            "overflow": null,
            "_model_module_version": "1.2.0",
            "_view_count": null,
            "flex_flow": null,
            "width": null,
            "min_width": null,
            "border": null,
            "align_items": null,
            "bottom": null,
            "_model_module": "@jupyter-widgets/base",
            "top": null,
            "grid_column": null,
            "overflow_y": null,
            "overflow_x": null,
            "grid_auto_flow": null,
            "grid_area": null,
            "grid_template_columns": null,
            "flex": null,
            "_model_name": "LayoutModel",
            "justify_items": null,
            "grid_row": null,
            "max_height": null,
            "align_content": null,
            "visibility": null,
            "align_self": null,
            "height": null,
            "min_height": null,
            "padding": null,
            "grid_auto_rows": null,
            "grid_gap": null,
            "max_width": null,
            "order": null,
            "_view_module_version": "1.2.0",
            "grid_template_areas": null,
            "object_position": null,
            "object_fit": null,
            "grid_auto_columns": null,
            "margin": null,
            "display": null,
            "left": null
          }
        },
        "63fd6558ef784842a4b646a1c6a8c0df": {
          "model_module": "@jupyter-widgets/controls",
          "model_name": "FloatProgressModel",
          "state": {
            "_view_name": "ProgressView",
            "style": "IPY_MODEL_5f6e73a962be4d4591dd7589011dc4f9",
            "_dom_classes": [],
            "description": "",
            "_model_name": "FloatProgressModel",
            "bar_style": "success",
            "max": 1,
            "_view_module": "@jupyter-widgets/controls",
            "_model_module_version": "1.5.0",
            "value": 1,
            "_view_count": null,
            "_view_module_version": "1.5.0",
            "orientation": "horizontal",
            "min": 0,
            "description_tooltip": null,
            "_model_module": "@jupyter-widgets/controls",
            "layout": "IPY_MODEL_ef6bb314e0154ee98058424f6b340d50"
          }
        },
        "71b05c408094437b8e5818a4743f66fa": {
          "model_module": "@jupyter-widgets/controls",
          "model_name": "HTMLModel",
          "state": {
            "_view_name": "HTMLView",
            "style": "IPY_MODEL_e3ec931d7b2a46098a3f0e0378f23f14",
            "_dom_classes": [],
            "description": "",
            "_model_name": "HTMLModel",
            "placeholder": "​",
            "_view_module": "@jupyter-widgets/controls",
            "_model_module_version": "1.5.0",
            "value": " 4423680/? [00:01&lt;00:00, 3031431.05it/s]",
            "_view_count": null,
            "_view_module_version": "1.5.0",
            "description_tooltip": null,
            "_model_module": "@jupyter-widgets/controls",
            "layout": "IPY_MODEL_91b7ec5b4cb841a4aea06c6e110b0342"
          }
        },
        "5f6e73a962be4d4591dd7589011dc4f9": {
          "model_module": "@jupyter-widgets/controls",
          "model_name": "ProgressStyleModel",
          "state": {
            "_view_name": "StyleView",
            "_model_name": "ProgressStyleModel",
            "description_width": "initial",
            "_view_module": "@jupyter-widgets/base",
            "_model_module_version": "1.5.0",
            "_view_count": null,
            "_view_module_version": "1.2.0",
            "bar_color": null,
            "_model_module": "@jupyter-widgets/controls"
          }
        },
        "ef6bb314e0154ee98058424f6b340d50": {
          "model_module": "@jupyter-widgets/base",
          "model_name": "LayoutModel",
          "state": {
            "_view_name": "LayoutView",
            "grid_template_rows": null,
            "right": null,
            "justify_content": null,
            "_view_module": "@jupyter-widgets/base",
            "overflow": null,
            "_model_module_version": "1.2.0",
            "_view_count": null,
            "flex_flow": null,
            "width": null,
            "min_width": null,
            "border": null,
            "align_items": null,
            "bottom": null,
            "_model_module": "@jupyter-widgets/base",
            "top": null,
            "grid_column": null,
            "overflow_y": null,
            "overflow_x": null,
            "grid_auto_flow": null,
            "grid_area": null,
            "grid_template_columns": null,
            "flex": null,
            "_model_name": "LayoutModel",
            "justify_items": null,
            "grid_row": null,
            "max_height": null,
            "align_content": null,
            "visibility": null,
            "align_self": null,
            "height": null,
            "min_height": null,
            "padding": null,
            "grid_auto_rows": null,
            "grid_gap": null,
            "max_width": null,
            "order": null,
            "_view_module_version": "1.2.0",
            "grid_template_areas": null,
            "object_position": null,
            "object_fit": null,
            "grid_auto_columns": null,
            "margin": null,
            "display": null,
            "left": null
          }
        },
        "e3ec931d7b2a46098a3f0e0378f23f14": {
          "model_module": "@jupyter-widgets/controls",
          "model_name": "DescriptionStyleModel",
          "state": {
            "_view_name": "StyleView",
            "_model_name": "DescriptionStyleModel",
            "description_width": "",
            "_view_module": "@jupyter-widgets/base",
            "_model_module_version": "1.5.0",
            "_view_count": null,
            "_view_module_version": "1.2.0",
            "_model_module": "@jupyter-widgets/controls"
          }
        },
        "91b7ec5b4cb841a4aea06c6e110b0342": {
          "model_module": "@jupyter-widgets/base",
          "model_name": "LayoutModel",
          "state": {
            "_view_name": "LayoutView",
            "grid_template_rows": null,
            "right": null,
            "justify_content": null,
            "_view_module": "@jupyter-widgets/base",
            "overflow": null,
            "_model_module_version": "1.2.0",
            "_view_count": null,
            "flex_flow": null,
            "width": null,
            "min_width": null,
            "border": null,
            "align_items": null,
            "bottom": null,
            "_model_module": "@jupyter-widgets/base",
            "top": null,
            "grid_column": null,
            "overflow_y": null,
            "overflow_x": null,
            "grid_auto_flow": null,
            "grid_area": null,
            "grid_template_columns": null,
            "flex": null,
            "_model_name": "LayoutModel",
            "justify_items": null,
            "grid_row": null,
            "max_height": null,
            "align_content": null,
            "visibility": null,
            "align_self": null,
            "height": null,
            "min_height": null,
            "padding": null,
            "grid_auto_rows": null,
            "grid_gap": null,
            "max_width": null,
            "order": null,
            "_view_module_version": "1.2.0",
            "grid_template_areas": null,
            "object_position": null,
            "object_fit": null,
            "grid_auto_columns": null,
            "margin": null,
            "display": null,
            "left": null
          }
        },
        "77d26562d9984a9db405411b4fc544df": {
          "model_module": "@jupyter-widgets/controls",
          "model_name": "HBoxModel",
          "state": {
            "_view_name": "HBoxView",
            "_dom_classes": [],
            "_model_name": "HBoxModel",
            "_view_module": "@jupyter-widgets/controls",
            "_model_module_version": "1.5.0",
            "_view_count": null,
            "_view_module_version": "1.5.0",
            "box_style": "",
            "layout": "IPY_MODEL_2ee9c40ffacf4c24b0657eef4b1d4d89",
            "_model_module": "@jupyter-widgets/controls",
            "children": [
              "IPY_MODEL_386303121fb849bc9cd02171fba794fb",
              "IPY_MODEL_1ed386007daa466a9ae49028805d2d62"
            ]
          }
        },
        "2ee9c40ffacf4c24b0657eef4b1d4d89": {
          "model_module": "@jupyter-widgets/base",
          "model_name": "LayoutModel",
          "state": {
            "_view_name": "LayoutView",
            "grid_template_rows": null,
            "right": null,
            "justify_content": null,
            "_view_module": "@jupyter-widgets/base",
            "overflow": null,
            "_model_module_version": "1.2.0",
            "_view_count": null,
            "flex_flow": null,
            "width": null,
            "min_width": null,
            "border": null,
            "align_items": null,
            "bottom": null,
            "_model_module": "@jupyter-widgets/base",
            "top": null,
            "grid_column": null,
            "overflow_y": null,
            "overflow_x": null,
            "grid_auto_flow": null,
            "grid_area": null,
            "grid_template_columns": null,
            "flex": null,
            "_model_name": "LayoutModel",
            "justify_items": null,
            "grid_row": null,
            "max_height": null,
            "align_content": null,
            "visibility": null,
            "align_self": null,
            "height": null,
            "min_height": null,
            "padding": null,
            "grid_auto_rows": null,
            "grid_gap": null,
            "max_width": null,
            "order": null,
            "_view_module_version": "1.2.0",
            "grid_template_areas": null,
            "object_position": null,
            "object_fit": null,
            "grid_auto_columns": null,
            "margin": null,
            "display": null,
            "left": null
          }
        },
        "386303121fb849bc9cd02171fba794fb": {
          "model_module": "@jupyter-widgets/controls",
          "model_name": "FloatProgressModel",
          "state": {
            "_view_name": "ProgressView",
            "style": "IPY_MODEL_beb75cc3e53b40a98353f933f61a4992",
            "_dom_classes": [],
            "description": "",
            "_model_name": "FloatProgressModel",
            "bar_style": "success",
            "max": 1,
            "_view_module": "@jupyter-widgets/controls",
            "_model_module_version": "1.5.0",
            "value": 1,
            "_view_count": null,
            "_view_module_version": "1.5.0",
            "orientation": "horizontal",
            "min": 0,
            "description_tooltip": null,
            "_model_module": "@jupyter-widgets/controls",
            "layout": "IPY_MODEL_012fcecc9c2242a7b0311102cbd83fa2"
          }
        },
        "1ed386007daa466a9ae49028805d2d62": {
          "model_module": "@jupyter-widgets/controls",
          "model_name": "HTMLModel",
          "state": {
            "_view_name": "HTMLView",
            "style": "IPY_MODEL_2d0a65fedb1547aca53d7977fc1f6c6a",
            "_dom_classes": [],
            "description": "",
            "_model_name": "HTMLModel",
            "placeholder": "​",
            "_view_module": "@jupyter-widgets/controls",
            "_model_module_version": "1.5.0",
            "value": " 8192/? [00:01&lt;00:00, 6654.99it/s]",
            "_view_count": null,
            "_view_module_version": "1.5.0",
            "description_tooltip": null,
            "_model_module": "@jupyter-widgets/controls",
            "layout": "IPY_MODEL_4cd287f35d774a1e84942ef8c82f4ad9"
          }
        },
        "beb75cc3e53b40a98353f933f61a4992": {
          "model_module": "@jupyter-widgets/controls",
          "model_name": "ProgressStyleModel",
          "state": {
            "_view_name": "StyleView",
            "_model_name": "ProgressStyleModel",
            "description_width": "initial",
            "_view_module": "@jupyter-widgets/base",
            "_model_module_version": "1.5.0",
            "_view_count": null,
            "_view_module_version": "1.2.0",
            "bar_color": null,
            "_model_module": "@jupyter-widgets/controls"
          }
        },
        "012fcecc9c2242a7b0311102cbd83fa2": {
          "model_module": "@jupyter-widgets/base",
          "model_name": "LayoutModel",
          "state": {
            "_view_name": "LayoutView",
            "grid_template_rows": null,
            "right": null,
            "justify_content": null,
            "_view_module": "@jupyter-widgets/base",
            "overflow": null,
            "_model_module_version": "1.2.0",
            "_view_count": null,
            "flex_flow": null,
            "width": null,
            "min_width": null,
            "border": null,
            "align_items": null,
            "bottom": null,
            "_model_module": "@jupyter-widgets/base",
            "top": null,
            "grid_column": null,
            "overflow_y": null,
            "overflow_x": null,
            "grid_auto_flow": null,
            "grid_area": null,
            "grid_template_columns": null,
            "flex": null,
            "_model_name": "LayoutModel",
            "justify_items": null,
            "grid_row": null,
            "max_height": null,
            "align_content": null,
            "visibility": null,
            "align_self": null,
            "height": null,
            "min_height": null,
            "padding": null,
            "grid_auto_rows": null,
            "grid_gap": null,
            "max_width": null,
            "order": null,
            "_view_module_version": "1.2.0",
            "grid_template_areas": null,
            "object_position": null,
            "object_fit": null,
            "grid_auto_columns": null,
            "margin": null,
            "display": null,
            "left": null
          }
        },
        "2d0a65fedb1547aca53d7977fc1f6c6a": {
          "model_module": "@jupyter-widgets/controls",
          "model_name": "DescriptionStyleModel",
          "state": {
            "_view_name": "StyleView",
            "_model_name": "DescriptionStyleModel",
            "description_width": "",
            "_view_module": "@jupyter-widgets/base",
            "_model_module_version": "1.5.0",
            "_view_count": null,
            "_view_module_version": "1.2.0",
            "_model_module": "@jupyter-widgets/controls"
          }
        },
        "4cd287f35d774a1e84942ef8c82f4ad9": {
          "model_module": "@jupyter-widgets/base",
          "model_name": "LayoutModel",
          "state": {
            "_view_name": "LayoutView",
            "grid_template_rows": null,
            "right": null,
            "justify_content": null,
            "_view_module": "@jupyter-widgets/base",
            "overflow": null,
            "_model_module_version": "1.2.0",
            "_view_count": null,
            "flex_flow": null,
            "width": null,
            "min_width": null,
            "border": null,
            "align_items": null,
            "bottom": null,
            "_model_module": "@jupyter-widgets/base",
            "top": null,
            "grid_column": null,
            "overflow_y": null,
            "overflow_x": null,
            "grid_auto_flow": null,
            "grid_area": null,
            "grid_template_columns": null,
            "flex": null,
            "_model_name": "LayoutModel",
            "justify_items": null,
            "grid_row": null,
            "max_height": null,
            "align_content": null,
            "visibility": null,
            "align_self": null,
            "height": null,
            "min_height": null,
            "padding": null,
            "grid_auto_rows": null,
            "grid_gap": null,
            "max_width": null,
            "order": null,
            "_view_module_version": "1.2.0",
            "grid_template_areas": null,
            "object_position": null,
            "object_fit": null,
            "grid_auto_columns": null,
            "margin": null,
            "display": null,
            "left": null
          }
        }
      }
    }
  },
  "cells": [
    {
      "cell_type": "code",
      "metadata": {
        "id": "tyYydLxz7giA"
      },
      "source": [
        "import numpy as np\n",
        "import torch\n",
        "import torch.nn as nn\n",
        "import torch.utils.data as td\n",
        "import torchvision\n",
        "import torchvision.datasets as dataset\n",
        "import torchvision.transforms as transforms\n",
        "import matplotlib.pyplot as plt\n",
        "import time"
      ],
      "execution_count": null,
      "outputs": []
    },
    {
      "cell_type": "code",
      "metadata": {
        "id": "5im7hK4D9S_K",
        "outputId": "094fdeac-8e03-43b3-99c1-efefc7ee46f7",
        "colab": {
          "base_uri": "https://localhost:8080/"
        }
      },
      "source": [
        "gpu_boole = torch.cuda.is_available()\n",
        "print(gpu_boole) ##If True, then your GPU is enabled and you are able to make use of it"
      ],
      "execution_count": null,
      "outputs": [
        {
          "output_type": "stream",
          "text": [
            "True\n"
          ],
          "name": "stdout"
        }
      ]
    },
    {
      "cell_type": "code",
      "metadata": {
        "id": "l_0RzIpX9X1R",
        "outputId": "d78d3297-d976-4f4a-86b3-213043ce29d7",
        "colab": {
          "base_uri": "https://localhost:8080/",
          "height": 373,
          "referenced_widgets": [
            "b6fc07c67c574dbbb3aa95d845b87518",
            "f122769b9f9545c7bec65a5c09ff804f",
            "d9ffabbe10e64b5684ec8be4cfc575f5",
            "e937fa71d3d84fd59252034f6a7d11c7",
            "c9b130bf0b8c44338fc6f324220f230a",
            "fab6db5a9f1c4640a80100104d8834d8",
            "74ec9f62ee0c4996888b7d44bbd07316",
            "98d9c491092944c5bbb65f8cec42b35d",
            "a163c831222f4b2db36fcec562496d78",
            "cc400c49f4a945718b8bc1b0b7b3a4d3",
            "ea2380d078f040869c3d96dba99e82f5",
            "17b62244ba424969b39b24bdaabd464a",
            "505a3eb74a624c07a3c2a6f4426fcca7",
            "1b4ad02e9bce4c05bf269e34a3ebda02",
            "3070db30f09c44e7a7d34e71a75390c8",
            "4a20bcae8a72421c85303c7f3790fa13",
            "6df3dfe3bf1d42459266f19985f20c8d",
            "8e9bbeb0681a4cd592b7c182e4d60ffb",
            "63fd6558ef784842a4b646a1c6a8c0df",
            "71b05c408094437b8e5818a4743f66fa",
            "5f6e73a962be4d4591dd7589011dc4f9",
            "ef6bb314e0154ee98058424f6b340d50",
            "e3ec931d7b2a46098a3f0e0378f23f14",
            "91b7ec5b4cb841a4aea06c6e110b0342",
            "77d26562d9984a9db405411b4fc544df",
            "2ee9c40ffacf4c24b0657eef4b1d4d89",
            "386303121fb849bc9cd02171fba794fb",
            "1ed386007daa466a9ae49028805d2d62",
            "beb75cc3e53b40a98353f933f61a4992",
            "012fcecc9c2242a7b0311102cbd83fa2",
            "2d0a65fedb1547aca53d7977fc1f6c6a",
            "4cd287f35d774a1e84942ef8c82f4ad9"
          ]
        }
      },
      "source": [
        "transform = transforms.Compose(\n",
        "    [transforms.ToTensor(),\n",
        "     transforms.Normalize(0.5, 0.5)])\n",
        "\n",
        "training = dataset.FashionMNIST(root ='./data', transform=transforms.ToTensor(), train=True, download=True)\n",
        "testing =  dataset.FashionMNIST(root ='./data', transform = transforms.ToTensor(), train=False, download=True)\n",
        "\n",
        "train, valid = td.random_split(training, [50000, 10000], generator=torch.Generator().manual_seed(42))\n",
        "\n",
        "train_loader = torch.utils.data.DataLoader(dataset=train, batch_size = 128, shuffle=True)\n",
        "valid_loader = torch.utils.data.DataLoader(dataset=valid, batch_size = 128, shuffle=False)\n",
        "test_loader = torch.utils.data.DataLoader(dataset=testing, batch_size = 128, shuffle=False)"
      ],
      "execution_count": null,
      "outputs": [
        {
          "output_type": "stream",
          "text": [
            "Downloading http://fashion-mnist.s3-website.eu-central-1.amazonaws.com/train-images-idx3-ubyte.gz to ./data/FashionMNIST/raw/train-images-idx3-ubyte.gz\n"
          ],
          "name": "stdout"
        },
        {
          "output_type": "display_data",
          "data": {
            "application/vnd.jupyter.widget-view+json": {
              "model_id": "b6fc07c67c574dbbb3aa95d845b87518",
              "version_minor": 0,
              "version_major": 2
            },
            "text/plain": [
              "HBox(children=(FloatProgress(value=1.0, bar_style='info', max=1.0), HTML(value='')))"
            ]
          },
          "metadata": {
            "tags": []
          }
        },
        {
          "output_type": "stream",
          "text": [
            "Extracting ./data/FashionMNIST/raw/train-images-idx3-ubyte.gz to ./data/FashionMNIST/raw\n",
            "Downloading http://fashion-mnist.s3-website.eu-central-1.amazonaws.com/train-labels-idx1-ubyte.gz to ./data/FashionMNIST/raw/train-labels-idx1-ubyte.gz\n"
          ],
          "name": "stdout"
        },
        {
          "output_type": "display_data",
          "data": {
            "application/vnd.jupyter.widget-view+json": {
              "model_id": "a163c831222f4b2db36fcec562496d78",
              "version_minor": 0,
              "version_major": 2
            },
            "text/plain": [
              "HBox(children=(FloatProgress(value=1.0, bar_style='info', max=1.0), HTML(value='')))"
            ]
          },
          "metadata": {
            "tags": []
          }
        },
        {
          "output_type": "stream",
          "text": [
            "Extracting ./data/FashionMNIST/raw/train-labels-idx1-ubyte.gz to ./data/FashionMNIST/raw\n",
            "Downloading http://fashion-mnist.s3-website.eu-central-1.amazonaws.com/t10k-images-idx3-ubyte.gz to ./data/FashionMNIST/raw/t10k-images-idx3-ubyte.gz\n"
          ],
          "name": "stdout"
        },
        {
          "output_type": "display_data",
          "data": {
            "application/vnd.jupyter.widget-view+json": {
              "model_id": "6df3dfe3bf1d42459266f19985f20c8d",
              "version_minor": 0,
              "version_major": 2
            },
            "text/plain": [
              "HBox(children=(FloatProgress(value=1.0, bar_style='info', max=1.0), HTML(value='')))"
            ]
          },
          "metadata": {
            "tags": []
          }
        },
        {
          "output_type": "stream",
          "text": [
            "Extracting ./data/FashionMNIST/raw/t10k-images-idx3-ubyte.gz to ./data/FashionMNIST/raw\n",
            "Downloading http://fashion-mnist.s3-website.eu-central-1.amazonaws.com/t10k-labels-idx1-ubyte.gz to ./data/FashionMNIST/raw/t10k-labels-idx1-ubyte.gz\n"
          ],
          "name": "stdout"
        },
        {
          "output_type": "display_data",
          "data": {
            "application/vnd.jupyter.widget-view+json": {
              "model_id": "77d26562d9984a9db405411b4fc544df",
              "version_minor": 0,
              "version_major": 2
            },
            "text/plain": [
              "HBox(children=(FloatProgress(value=1.0, bar_style='info', max=1.0), HTML(value='')))"
            ]
          },
          "metadata": {
            "tags": []
          }
        },
        {
          "output_type": "stream",
          "text": [
            "Extracting ./data/FashionMNIST/raw/t10k-labels-idx1-ubyte.gz to ./data/FashionMNIST/raw\n",
            "Processing...\n",
            "Done!\n"
          ],
          "name": "stdout"
        },
        {
          "output_type": "stream",
          "text": [
            "/usr/local/lib/python3.6/dist-packages/torchvision/datasets/mnist.py:469: UserWarning: The given NumPy array is not writeable, and PyTorch does not support non-writeable tensors. This means you can write to the underlying (supposedly non-writeable) NumPy array using the tensor. You may want to copy the array to protect its data or make it writeable before converting it to a tensor. This type of warning will be suppressed for the rest of this program. (Triggered internally at  /pytorch/torch/csrc/utils/tensor_numpy.cpp:141.)\n",
            "  return torch.from_numpy(parsed.astype(m[2], copy=False)).view(*s)\n"
          ],
          "name": "stderr"
        }
      ]
    },
    {
      "cell_type": "code",
      "metadata": {
        "id": "FocwhZ0N9lVq",
        "outputId": "e187ac16-6afe-4b15-ddcb-e2bd63dec300",
        "colab": {
          "base_uri": "https://localhost:8080/",
          "height": 352
        }
      },
      "source": [
        "## Plotting data to make sure it is correct:\n",
        "x,y = next(iter(train_loader))\n",
        "plt.imshow(x[3][0].cpu().data.numpy()) #plotting first channel of first image of MNIST\n",
        "plt.show()\n",
        "print('Label', y[3])"
      ],
      "execution_count": null,
      "outputs": [
        {
          "output_type": "stream",
          "text": [
            "\n",
            "\n"
          ],
          "name": "stdout"
        },
        {
          "output_type": "display_data",
          "data": {
            "image/png": "[encoded data removed]",
            "text/plain": [
              "<Figure size 432x288 with 1 Axes>"
            ]
          },
          "metadata": {
            "tags": [],
            "needs_background": "light"
          }
        },
        {
          "output_type": "stream",
          "text": [
            "\n",
            "\n",
            "Label tensor(2)\n"
          ],
          "name": "stdout"
        }
      ]
    },
    {
      "cell_type": "code",
      "metadata": {
        "id": "TiOM92r7-JZ9"
      },
      "source": [
        "class Net(nn.Module):\n",
        "  def __init__(self, num_classes):\n",
        "    super(Net, self).__init__()\n",
        "\n",
        "    ##convolutional layers\n",
        "    self.conv1 = nn.Conv2d(1, 15, 3)\n",
        "    self.conv2 = nn.Conv2d(15, 20, 3)\n",
        "\n",
        "    #linear layers\n",
        "    self.ff1 = nn.Linear(20 * 5 * 5, 80) #hidden layers\n",
        "    self.ff_out = nn.Linear(80, num_classes)   \n",
        "\n",
        "    ##activation:\n",
        "    self.relu = nn.ReLU()\n",
        "\n",
        "    #pooling:\n",
        "    self.pool = nn.MaxPool2d(2, 2)\n",
        "\n",
        "                \n",
        "  def forward(self, input_data):\n",
        "    out = self.relu(self.pool(self.conv1(input_data)))\n",
        "    out = self.relu(self.pool(self.conv2(out)))\n",
        "    out = out.view(-1, 20*5*5)\n",
        "    out = self.relu(self.ff1(out))\n",
        "    out = self.relu(self.ff_out(out))\n",
        "    return out #returns class probabilities for each image"
      ],
      "execution_count": null,
      "outputs": []
    },
    {
      "cell_type": "code",
      "metadata": {
        "id": "7znNNiBfJCaa"
      },
      "source": [
        "def train_eval(net, loss_metric, verbose = 1):\n",
        "    correct = 0\n",
        "    total = 0\n",
        "    loss_sum = 0\n",
        "    for images, labels in train_loader:\n",
        "        if gpu_boole:\n",
        "            images, labels = images.cuda(), labels.cuda()\n",
        "\n",
        "        outputs = net(images)\n",
        "        _, predicted = torch.max(outputs.data, 1)\n",
        "        total += labels.size(0)\n",
        "        correct += (predicted.float() == labels.float()).sum()\n",
        "\n",
        "        loss_sum += loss_metric(outputs,labels)\n",
        "        \n",
        "        \n",
        "    if verbose:\n",
        "        print('Train accuracy: %f %%' % (100.0 * correct / total))\n",
        "        print('Train loss: %f' % (loss_sum.cpu().data.numpy().item() / total))\n",
        "\n",
        "    return 100.0 * correct / total, loss_sum.cpu().data.numpy().item() / total\n",
        "\n",
        "\n",
        "def valid_eval(net, loss_metric, verbose = 1):\n",
        "    correct = 0\n",
        "    total = 0\n",
        "    loss_sum = 0\n",
        "    for images, labels in valid_loader:\n",
        "        if gpu_boole:\n",
        "            images, labels = images.cuda(), labels.cuda()\n",
        "\n",
        "        outputs = net(images)\n",
        "        _, predicted = torch.max(outputs.data, 1)\n",
        "        total += labels.size(0)\n",
        "        correct += (predicted.float() == labels.float()).sum()\n",
        "\n",
        "        loss_sum += loss_metric(outputs,labels)\n",
        "\n",
        "    if verbose:\n",
        "        print('Validation accuracy: %f %%' % (100.0 * correct / total))\n",
        "        print('Validation loss: %f' % (loss_sum.cpu().data.numpy().item() / total))\n",
        "\n",
        "    return 100.0 * correct / total, loss_sum.cpu().data.numpy().item() / total\n",
        "    \n",
        "\n",
        "def test_eval(net, loss_metric, verbose = 1):\n",
        "    correct = 0\n",
        "    total = 0\n",
        "    loss_sum = 0\n",
        "    for images, labels in test_loader:\n",
        "        if gpu_boole:\n",
        "            images, labels = images.cuda(), labels.cuda()\n",
        "\n",
        "        outputs = net(images)\n",
        "        _, predicted = torch.max(outputs.data, 1)\n",
        "        total += labels.size(0)\n",
        "        correct += (predicted.float() == labels.float()).sum()\n",
        "\n",
        "        loss_sum += loss_metric(outputs,labels)\n",
        "\n",
        "    if verbose:\n",
        "        print('Test accuracy: %f %%' % (100.0 * correct / total))\n",
        "        print('Test loss: %f' % (loss_sum.cpu().data.numpy().item() / total))\n",
        "\n",
        "    return 100.0 * correct / total, loss_sum.cpu().data.numpy().item() / total"
      ],
      "execution_count": null,
      "outputs": []
    },
    {
      "cell_type": "code",
      "metadata": {
        "id": "ir6pSPDEJjyb"
      },
      "source": [
        "def weights_init(m):\n",
        "    if isinstance(m, nn.Conv2d) or isinstance(m, nn.Linear):\n",
        "        torch.nn.init.xavier_uniform_(m.weight.data)\n",
        "        m.bias.data.fill_(0)\n",
        "\n",
        "def train(net, loss_metric, optimizer, epochs=100):\n",
        "    #defining batch train loss recording arrays for later visualization/plotting:\n",
        "    loss_batch_store = []\n",
        "    valid_acc = []\n",
        "\n",
        "    print(\"Starting Training\")\n",
        "    #training loop:\n",
        "    for epoch in range(epochs):\n",
        "      time1 = time.time() #timekeeping\n",
        "\n",
        "      for i, (x,y) in enumerate(train_loader):\n",
        "\n",
        "        if gpu_boole:\n",
        "          x = x.cuda()\n",
        "          y = y.cuda()\n",
        "\n",
        "        #loss calculation and gradient update:\n",
        "        optimizer.zero_grad()\n",
        "\n",
        "        outputs = net.forward(x)\n",
        "        loss = loss_metric(outputs,y)\n",
        "        loss.backward()    \n",
        "\n",
        "        ##performing update:\n",
        "        optimizer.step()\n",
        "\n",
        "      print(\"Epoch\",epoch+1,':')\n",
        "      train_perc, train_loss = train_eval(net, loss_metric)\n",
        "      valid_perc, valid_loss = valid_eval(net, loss_metric)\n",
        "\n",
        "      valid_acc.append(valid_perc)\n",
        "      loss_batch_store.append(train_loss)\n",
        "\n",
        "      time2 = time.time() #timekeeping\n",
        "      print('Elapsed time for epoch:',time2 - time1,'s')\n",
        "      print('ETA of completion:',(time2 - time1)*(epochs - epoch - 1)/60,'minutes')\n",
        "      print()\n",
        "\n",
        "    return loss_batch_store, valid_acc\n",
        "\n"
      ],
      "execution_count": null,
      "outputs": []
    },
    {
      "cell_type": "code",
      "metadata": {
        "id": "fCHE7wBzNdNl",
        "outputId": "82208f8c-d23d-43db-e4be-24237fba74f3",
        "colab": {
          "base_uri": "https://localhost:8080/",
          "height": 1000
        }
      },
      "source": [
        "torch.manual_seed(15)\n",
        "net = Net(10)\n",
        "if gpu_boole:\n",
        "  net = net.cuda()\n",
        "\n",
        "opt = torch.optim.Adam(net.parameters(), lr=0.005)\n",
        "loss = nn.CrossEntropyLoss()\n",
        "net.apply(weights_init)\n",
        "\n",
        "loss_store, acc = train(net, loss, opt, 20)\n",
        "\n",
        "## Plotting batch-wise train loss curve:\n",
        "plt.plot(loss_store, '-o', label = 'train_loss', color = 'blue')\n",
        "plt.xlabel('Epoch')\n",
        "plt.ylabel('Train Loss')\n",
        "plt.legend()\n",
        "plt.show()"
      ],
      "execution_count": null,
      "outputs": [
        {
          "output_type": "stream",
          "text": [
            "Starting Training\n",
            "Epoch 1 :\n",
            "Train accuracy: 76.764000 %\n",
            "Train loss: 0.004644\n",
            "Validation accuracy: 75.519997 %\n",
            "Validation loss: 0.004948\n",
            "Elapsed time for epoch: 8.729554176330566 s\n",
            "ETA of completion: 2.7643588225046796 minutes\n",
            "\n",
            "Epoch 2 :\n",
            "Train accuracy: 88.549995 %\n",
            "Train loss: 0.002420\n",
            "Validation accuracy: 87.689995 %\n",
            "Validation loss: 0.002678\n",
            "Elapsed time for epoch: 8.506126642227173 s\n",
            "ETA of completion: 2.551837992668152 minutes\n",
            "\n",
            "Epoch 3 :\n",
            "Train accuracy: 89.909996 %\n",
            "Train loss: 0.002163\n",
            "Validation accuracy: 88.659996 %\n",
            "Validation loss: 0.002492\n",
            "Elapsed time for epoch: 8.778139114379883 s\n",
            "ETA of completion: 2.487139415740967 minutes\n",
            "\n",
            "Epoch 4 :\n",
            "Train accuracy: 91.009995 %\n",
            "Train loss: 0.001862\n",
            "Validation accuracy: 89.470001 %\n",
            "Validation loss: 0.002232\n",
            "Elapsed time for epoch: 8.829385995864868 s\n",
            "ETA of completion: 2.3545029322306315 minutes\n",
            "\n",
            "Epoch 5 :\n",
            "Train accuracy: 91.178001 %\n",
            "Train loss: 0.001846\n",
            "Validation accuracy: 89.479996 %\n",
            "Validation loss: 0.002253\n",
            "Elapsed time for epoch: 8.984149932861328 s\n",
            "ETA of completion: 2.246037483215332 minutes\n",
            "\n",
            "Epoch 6 :\n",
            "Train accuracy: 91.523994 %\n",
            "Train loss: 0.001790\n",
            "Validation accuracy: 89.549995 %\n",
            "Validation loss: 0.002402\n",
            "Elapsed time for epoch: 9.116567850112915 s\n",
            "ETA of completion: 2.127199165026347 minutes\n",
            "\n",
            "Epoch 7 :\n",
            "Train accuracy: 91.547997 %\n",
            "Train loss: 0.001709\n",
            "Validation accuracy: 89.269997 %\n",
            "Validation loss: 0.002339\n",
            "Elapsed time for epoch: 8.800586462020874 s\n",
            "ETA of completion: 1.906793733437856 minutes\n",
            "\n",
            "Epoch 8 :\n",
            "Train accuracy: 92.337997 %\n",
            "Train loss: 0.001561\n",
            "Validation accuracy: 89.639999 %\n",
            "Validation loss: 0.002293\n",
            "Elapsed time for epoch: 8.527467489242554 s\n",
            "ETA of completion: 1.7054934978485108 minutes\n",
            "\n",
            "Epoch 9 :\n",
            "Train accuracy: 93.178001 %\n",
            "Train loss: 0.001417\n",
            "Validation accuracy: 90.159996 %\n",
            "Validation loss: 0.002249\n",
            "Elapsed time for epoch: 9.302384376525879 s\n",
            "ETA of completion: 1.705437135696411 minutes\n",
            "\n",
            "Epoch 10 :\n",
            "Train accuracy: 93.169998 %\n",
            "Train loss: 0.001379\n",
            "Validation accuracy: 90.259995 %\n",
            "Validation loss: 0.002254\n",
            "Elapsed time for epoch: 8.958894968032837 s\n",
            "ETA of completion: 1.4931491613388062 minutes\n",
            "\n",
            "Epoch 11 :\n",
            "Train accuracy: 93.813995 %\n",
            "Train loss: 0.001258\n",
            "Validation accuracy: 90.180000 %\n",
            "Validation loss: 0.002224\n",
            "Elapsed time for epoch: 8.705464363098145 s\n",
            "ETA of completion: 1.3058196544647216 minutes\n",
            "\n",
            "Epoch 12 :\n",
            "Train accuracy: 93.958000 %\n",
            "Train loss: 0.001259\n",
            "Validation accuracy: 90.079994 %\n",
            "Validation loss: 0.002294\n",
            "Elapsed time for epoch: 9.14139175415039 s\n",
            "ETA of completion: 1.2188522338867187 minutes\n",
            "\n",
            "Epoch 13 :\n",
            "Train accuracy: 94.862000 %\n",
            "Train loss: 0.001076\n",
            "Validation accuracy: 90.110001 %\n",
            "Validation loss: 0.002321\n",
            "Elapsed time for epoch: 8.898628234863281 s\n",
            "ETA of completion: 1.038173294067383 minutes\n",
            "\n",
            "Epoch 14 :\n",
            "Train accuracy: 94.329994 %\n",
            "Train loss: 0.001157\n",
            "Validation accuracy: 90.409996 %\n",
            "Validation loss: 0.002464\n",
            "Elapsed time for epoch: 8.760148525238037 s\n",
            "ETA of completion: 0.8760148525238037 minutes\n",
            "\n",
            "Epoch 15 :\n",
            "Train accuracy: 94.379997 %\n",
            "Train loss: 0.001133\n",
            "Validation accuracy: 89.989998 %\n",
            "Validation loss: 0.002532\n",
            "Elapsed time for epoch: 8.806292057037354 s\n",
            "ETA of completion: 0.7338576714197794 minutes\n",
            "\n",
            "Epoch 16 :\n",
            "Train accuracy: 95.121994 %\n",
            "Train loss: 0.000991\n",
            "Validation accuracy: 90.329994 %\n",
            "Validation loss: 0.002656\n",
            "Elapsed time for epoch: 8.896463394165039 s\n",
            "ETA of completion: 0.5930975596110026 minutes\n",
            "\n",
            "Epoch 17 :\n",
            "Train accuracy: 95.409996 %\n",
            "Train loss: 0.000934\n",
            "Validation accuracy: 90.189995 %\n",
            "Validation loss: 0.002645\n",
            "Elapsed time for epoch: 8.824981451034546 s\n",
            "ETA of completion: 0.4412490725517273 minutes\n",
            "\n",
            "Epoch 18 :\n",
            "Train accuracy: 95.519997 %\n",
            "Train loss: 0.000909\n",
            "Validation accuracy: 90.079994 %\n",
            "Validation loss: 0.002771\n",
            "Elapsed time for epoch: 8.846435785293579 s\n",
            "ETA of completion: 0.2948811928431193 minutes\n",
            "\n",
            "Epoch 19 :\n",
            "Train accuracy: 94.839996 %\n",
            "Train loss: 0.001028\n",
            "Validation accuracy: 89.610001 %\n",
            "Validation loss: 0.003020\n",
            "Elapsed time for epoch: 8.960721254348755 s\n",
            "ETA of completion: 0.1493453542391459 minutes\n",
            "\n",
            "Epoch 20 :\n",
            "Train accuracy: 96.145996 %\n",
            "Train loss: 0.000796\n",
            "Validation accuracy: 90.250000 %\n",
            "Validation loss: 0.002809\n",
            "Elapsed time for epoch: 9.031557083129883 s\n",
            "ETA of completion: 0.0 minutes\n",
            "\n"
          ],
          "name": "stdout"
        },
        {
          "output_type": "display_data",
          "data": {
            "image/png": "[encoded data removed]",
            "text/plain": [
              "<Figure size 432x288 with 1 Axes>"
            ]
          },
          "metadata": {
            "tags": [],
            "needs_background": "light"
          }
        }
      ]
    },
    {
      "cell_type": "code",
      "metadata": {
        "id": "3-6BWHGQ8Ud2",
        "outputId": "920f91f0-bd62-4e6c-d5f3-838d4c3a8b08",
        "colab": {
          "base_uri": "https://localhost:8080/",
          "height": 279
        }
      },
      "source": [
        "plt.plot(acc, '-o', label = 'valid_acc', color = 'blue')\n",
        "plt.xlabel('Epoch')\n",
        "plt.ylabel('Valid Accuracy')\n",
        "plt.legend()\n",
        "plt.show()"
      ],
      "execution_count": null,
      "outputs": [
        {
          "output_type": "display_data",
          "data": {
            "image/png": "[encoded data removed]",
            "text/plain": [
              "<Figure size 432x288 with 1 Axes>"
            ]
          },
          "metadata": {
            "tags": [],
            "needs_background": "light"
          }
        }
      ]
    },
    {
      "cell_type": "code",
      "metadata": {
        "id": "wAlwndUn-FcW",
        "outputId": "2a841dcd-22d9-401e-96a1-e9da4e953edd",
        "colab": {
          "base_uri": "https://localhost:8080/"
        }
      },
      "source": [
        "test_eval(net, loss, opt)"
      ],
      "execution_count": null,
      "outputs": [
        {
          "output_type": "stream",
          "text": [
            "Test accuracy: 89.720001 %\n",
            "Test loss: 0.003131\n"
          ],
          "name": "stdout"
        },
        {
          "output_type": "execute_result",
          "data": {
            "text/plain": [
              "(tensor(89.7200, device='cuda:0'), 0.0031312038421630857)"
            ]
          },
          "metadata": {
            "tags": []
          },
          "execution_count": 60
        }
      ]
    },
    {
      "cell_type": "markdown",
      "metadata": {
        "id": "mYpN15_4FPGq"
      },
      "source": [
        "###2b)"
      ]
    },
    {
      "cell_type": "code",
      "metadata": {
        "id": "jlBSZYtjFSXL"
      },
      "source": [
        "class Net2(nn.Module):\n",
        "  def __init__(self, num_classes):\n",
        "    super(Net2, self).__init__()\n",
        "\n",
        "    ##convolutional layers\n",
        "    self.conv1 = nn.Conv2d(1, 15, 3)\n",
        "    self.conv2 = nn.Conv2d(15, 20, 3)\n",
        "\n",
        "    #linear layers\n",
        "    self.ff1 = nn.Linear(20 * 5 * 5, 80) #hidden layers\n",
        "    self.ff_out = nn.Linear(80, num_classes)   \n",
        "\n",
        "    ##activation:\n",
        "    self.relu = nn.ReLU()\n",
        "\n",
        "    #pooling:\n",
        "    self.pool = nn.MaxPool2d(2, 2)\n",
        "\n",
        "    #dropout:\n",
        "    self.do = nn.Dropout(p=0.2)\n",
        "\n",
        "    #batch-normalization:\n",
        "    self.bn1 = nn.BatchNorm2d(20)\n",
        "    self.bn2 = nn.BatchNorm1d(80)\n",
        "\n",
        "                \n",
        "  def forward(self, input_data):\n",
        "    out = self.relu(self.pool(self.conv1(input_data)))\n",
        "    out = self.relu(self.pool(self.bn1(self.conv2(out))))\n",
        "    out = out.view(-1, 20*5*5)\n",
        "    out = self.do(out)\n",
        "    out = self.relu(self.bn2(self.ff1(out)))\n",
        "    out = self.relu(self.ff_out(out))\n",
        "    return out #returns class probabilities for each image"
      ],
      "execution_count": null,
      "outputs": []
    },
    {
      "cell_type": "code",
      "metadata": {
        "id": "BERXRo58JW3r",
        "outputId": "97331dab-fea9-4ee2-cabe-e7e0c2f7a895",
        "colab": {
          "base_uri": "https://localhost:8080/",
          "height": 1000
        }
      },
      "source": [
        "torch.manual_seed(5)\n",
        "net2 = Net2(10)\n",
        "if gpu_boole:\n",
        "  net2 = net2.cuda()\n",
        "\n",
        "opt = torch.optim.Adam(net2.parameters(), lr=0.005)\n",
        "loss = nn.CrossEntropyLoss()\n",
        "net2.apply(weights_init)\n",
        "\n",
        "loss_store, acc = train(net2, loss, opt, 20)\n",
        "\n"
      ],
      "execution_count": null,
      "outputs": [
        {
          "output_type": "stream",
          "text": [
            "Starting Training\n",
            "Epoch 1 :\n",
            "Train accuracy: 87.627998 %\n",
            "Train loss: 0.002624\n",
            "Validation accuracy: 86.849998 %\n",
            "Validation loss: 0.002831\n",
            "Elapsed time for epoch: 9.179226875305176 s\n",
            "ETA of completion: 2.9067551771799724 minutes\n",
            "\n",
            "Epoch 2 :\n",
            "Train accuracy: 88.211998 %\n",
            "Train loss: 0.002474\n",
            "Validation accuracy: 87.439995 %\n",
            "Validation loss: 0.002751\n",
            "Elapsed time for epoch: 8.981194734573364 s\n",
            "ETA of completion: 2.6943584203720095 minutes\n",
            "\n",
            "Epoch 3 :\n",
            "Train accuracy: 89.517998 %\n",
            "Train loss: 0.002155\n",
            "Validation accuracy: 88.360001 %\n",
            "Validation loss: 0.002457\n",
            "Elapsed time for epoch: 9.76419448852539 s\n",
            "ETA of completion: 2.766521771748861 minutes\n",
            "\n",
            "Epoch 4 :\n",
            "Train accuracy: 90.603996 %\n",
            "Train loss: 0.001969\n",
            "Validation accuracy: 89.250000 %\n",
            "Validation loss: 0.002326\n",
            "Elapsed time for epoch: 9.49463415145874 s\n",
            "ETA of completion: 2.5319024403889974 minutes\n",
            "\n",
            "Epoch 5 :\n",
            "Train accuracy: 91.139999 %\n",
            "Train loss: 0.001840\n",
            "Validation accuracy: 89.360001 %\n",
            "Validation loss: 0.002250\n",
            "Elapsed time for epoch: 8.978885412216187 s\n",
            "ETA of completion: 2.2447213530540466 minutes\n",
            "\n",
            "Epoch 6 :\n",
            "Train accuracy: 91.498001 %\n",
            "Train loss: 0.001777\n",
            "Validation accuracy: 89.180000 %\n",
            "Validation loss: 0.002238\n",
            "Elapsed time for epoch: 9.477497100830078 s\n",
            "ETA of completion: 2.211415990193685 minutes\n",
            "\n",
            "Epoch 7 :\n",
            "Train accuracy: 91.543999 %\n",
            "Train loss: 0.001770\n",
            "Validation accuracy: 89.259995 %\n",
            "Validation loss: 0.002270\n",
            "Elapsed time for epoch: 9.7205810546875 s\n",
            "ETA of completion: 2.106125895182292 minutes\n",
            "\n",
            "Epoch 8 :\n",
            "Train accuracy: 92.138000 %\n",
            "Train loss: 0.001627\n",
            "Validation accuracy: 89.750000 %\n",
            "Validation loss: 0.002228\n",
            "Elapsed time for epoch: 9.278084993362427 s\n",
            "ETA of completion: 1.8556169986724853 minutes\n",
            "\n",
            "Epoch 9 :\n",
            "Train accuracy: 92.068001 %\n",
            "Train loss: 0.001638\n",
            "Validation accuracy: 89.619995 %\n",
            "Validation loss: 0.002265\n",
            "Elapsed time for epoch: 9.046244144439697 s\n",
            "ETA of completion: 1.6584780931472778 minutes\n",
            "\n",
            "Epoch 10 :\n",
            "Train accuracy: 92.599998 %\n",
            "Train loss: 0.001534\n",
            "Validation accuracy: 90.119995 %\n",
            "Validation loss: 0.002206\n",
            "Elapsed time for epoch: 9.609548807144165 s\n",
            "ETA of completion: 1.6015914678573608 minutes\n",
            "\n",
            "Epoch 11 :\n",
            "Train accuracy: 92.625999 %\n",
            "Train loss: 0.001523\n",
            "Validation accuracy: 90.000000 %\n",
            "Validation loss: 0.002195\n",
            "Elapsed time for epoch: 9.293006896972656 s\n",
            "ETA of completion: 1.3939510345458985 minutes\n",
            "\n",
            "Epoch 12 :\n",
            "Train accuracy: 92.417999 %\n",
            "Train loss: 0.001577\n",
            "Validation accuracy: 89.189995 %\n",
            "Validation loss: 0.002323\n",
            "Elapsed time for epoch: 9.921298265457153 s\n",
            "ETA of completion: 1.3228397687276205 minutes\n",
            "\n",
            "Epoch 13 :\n",
            "Train accuracy: 92.183998 %\n",
            "Train loss: 0.001594\n",
            "Validation accuracy: 89.320000 %\n",
            "Validation loss: 0.002364\n",
            "Elapsed time for epoch: 9.164336204528809 s\n",
            "ETA of completion: 1.0691725571950277 minutes\n",
            "\n",
            "Epoch 14 :\n",
            "Train accuracy: 93.458000 %\n",
            "Train loss: 0.001343\n",
            "Validation accuracy: 90.519997 %\n",
            "Validation loss: 0.002123\n",
            "Elapsed time for epoch: 9.450872421264648 s\n",
            "ETA of completion: 0.9450872421264649 minutes\n",
            "\n",
            "Epoch 15 :\n",
            "Train accuracy: 93.311996 %\n",
            "Train loss: 0.001372\n",
            "Validation accuracy: 90.279999 %\n",
            "Validation loss: 0.002226\n",
            "Elapsed time for epoch: 9.267208337783813 s\n",
            "ETA of completion: 0.7722673614819845 minutes\n",
            "\n",
            "Epoch 16 :\n",
            "Train accuracy: 93.035995 %\n",
            "Train loss: 0.001415\n",
            "Validation accuracy: 89.629997 %\n",
            "Validation loss: 0.002253\n",
            "Elapsed time for epoch: 9.239421606063843 s\n",
            "ETA of completion: 0.6159614404042562 minutes\n",
            "\n",
            "Epoch 17 :\n",
            "Train accuracy: 93.610001 %\n",
            "Train loss: 0.001326\n",
            "Validation accuracy: 90.139999 %\n",
            "Validation loss: 0.002272\n",
            "Elapsed time for epoch: 9.657277584075928 s\n",
            "ETA of completion: 0.48286387920379636 minutes\n",
            "\n",
            "Epoch 18 :\n",
            "Train accuracy: 93.731995 %\n",
            "Train loss: 0.001278\n",
            "Validation accuracy: 89.709999 %\n",
            "Validation loss: 0.002202\n",
            "Elapsed time for epoch: 9.5065758228302 s\n",
            "ETA of completion: 0.31688586076100667 minutes\n",
            "\n",
            "Epoch 19 :\n",
            "Train accuracy: 93.846001 %\n",
            "Train loss: 0.001266\n",
            "Validation accuracy: 90.009995 %\n",
            "Validation loss: 0.002277\n",
            "Elapsed time for epoch: 9.179231405258179 s\n",
            "ETA of completion: 0.1529871900876363 minutes\n",
            "\n",
            "Epoch 20 :\n",
            "Train accuracy: 94.089996 %\n",
            "Train loss: 0.001222\n",
            "Validation accuracy: 90.369995 %\n",
            "Validation loss: 0.002194\n",
            "Elapsed time for epoch: 9.639989852905273 s\n",
            "ETA of completion: 0.0 minutes\n",
            "\n"
          ],
          "name": "stdout"
        },
        {
          "output_type": "display_data",
          "data": {
            "image/png": "[encoded data removed]",
            "text/plain": [
              "<Figure size 432x288 with 1 Axes>"
            ]
          },
          "metadata": {
            "tags": [],
            "needs_background": "light"
          }
        }
      ]
    },
    {
      "cell_type": "code",
      "metadata": {
        "id": "w_vO63b_hTnB",
        "outputId": "157245e2-758a-4168-add0-86f224f91f36",
        "colab": {
          "base_uri": "https://localhost:8080/",
          "height": 279
        }
      },
      "source": [
        "## Plotting batch-wise train loss curve:\n",
        "plt.plot(loss_store, '-o', label = 'train_loss', color = 'blue')\n",
        "plt.xlabel('Epoch')\n",
        "plt.ylabel('Training loss')\n",
        "plt.legend()\n",
        "plt.show()"
      ],
      "execution_count": null,
      "outputs": [
        {
          "output_type": "display_data",
          "data": {
            "image/png": "[encoded data removed]",
            "text/plain": [
              "<Figure size 432x288 with 1 Axes>"
            ]
          },
          "metadata": {
            "tags": [],
            "needs_background": "light"
          }
        }
      ]
    },
    {
      "cell_type": "code",
      "metadata": {
        "id": "VRu9w7s8LNmS",
        "outputId": "bde1b12d-7f35-4bbd-9807-a311612fcd4b",
        "colab": {
          "base_uri": "https://localhost:8080/",
          "height": 331
        }
      },
      "source": [
        "plt.plot(acc, '-o', label = 'valid_acc', color = 'blue')\n",
        "plt.xlabel('Epoch')\n",
        "plt.ylabel('Validation Accuracy')\n",
        "plt.legend()\n",
        "plt.show()\n",
        "test_eval(net2, loss, opt)"
      ],
      "execution_count": null,
      "outputs": [
        {
          "output_type": "display_data",
          "data": {
            "image/png": "[encoded data removed]",
            "text/plain": [
              "<Figure size 432x288 with 1 Axes>"
            ]
          },
          "metadata": {
            "tags": [],
            "needs_background": "light"
          }
        },
        {
          "output_type": "stream",
          "text": [
            "Test accuracy: 90.079994 %\n",
            "Test loss: 0.002268\n"
          ],
          "name": "stdout"
        },
        {
          "output_type": "execute_result",
          "data": {
            "text/plain": [
              "(tensor(90.0800, device='cuda:0'), 0.002267892646789551)"
            ]
          },
          "metadata": {
            "tags": []
          },
          "execution_count": 38
        }
      ]
    }
  ]
}